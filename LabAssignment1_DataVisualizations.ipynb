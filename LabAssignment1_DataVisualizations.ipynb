{
 "cells": [
  {
   "cell_type": "code",
   "execution_count": 2,
   "metadata": {
    "collapsed": false
   },
   "outputs": [
    {
     "data": {
      "text/html": [
       "<div>\n",
       "<table border=\"1\" class=\"dataframe\">\n",
       "  <thead>\n",
       "    <tr style=\"text-align: right;\">\n",
       "      <th></th>\n",
       "      <th>id</th>\n",
       "      <th>name</th>\n",
       "      <th>host_id</th>\n",
       "      <th>host_name</th>\n",
       "      <th>neighbourhood_group</th>\n",
       "      <th>neighbourhood</th>\n",
       "      <th>latitude</th>\n",
       "      <th>longitude</th>\n",
       "      <th>room_type</th>\n",
       "      <th>price</th>\n",
       "      <th>minimum_nights</th>\n",
       "      <th>number_of_reviews</th>\n",
       "      <th>last_review</th>\n",
       "      <th>reviews_per_month</th>\n",
       "      <th>calculated_host_listings_count</th>\n",
       "      <th>availability_365</th>\n",
       "    </tr>\n",
       "  </thead>\n",
       "  <tbody>\n",
       "    <tr>\n",
       "      <th>0</th>\n",
       "      <td>1886820</td>\n",
       "      <td>Quaint City Island Community.</td>\n",
       "      <td>9815788</td>\n",
       "      <td>Steve</td>\n",
       "      <td>Bronx</td>\n",
       "      <td>City Island</td>\n",
       "      <td>40.841144</td>\n",
       "      <td>-73.783052</td>\n",
       "      <td>Entire home/apt</td>\n",
       "      <td>300</td>\n",
       "      <td>7</td>\n",
       "      <td>0</td>\n",
       "      <td>NaN</td>\n",
       "      <td>NaN</td>\n",
       "      <td>1</td>\n",
       "      <td>365</td>\n",
       "    </tr>\n",
       "    <tr>\n",
       "      <th>1</th>\n",
       "      <td>755528</td>\n",
       "      <td>PRIVATE BATH/TONS OF SUNLIGHT/SAFE</td>\n",
       "      <td>3684360</td>\n",
       "      <td>Enrique</td>\n",
       "      <td>Bronx</td>\n",
       "      <td>Allerton</td>\n",
       "      <td>40.858397</td>\n",
       "      <td>-73.869686</td>\n",
       "      <td>Private room</td>\n",
       "      <td>49</td>\n",
       "      <td>2</td>\n",
       "      <td>69</td>\n",
       "      <td>2016-04-11</td>\n",
       "      <td>1.62</td>\n",
       "      <td>2</td>\n",
       "      <td>290</td>\n",
       "    </tr>\n",
       "    <tr>\n",
       "      <th>2</th>\n",
       "      <td>260566</td>\n",
       "      <td>Private Room Guests Homestay</td>\n",
       "      <td>1367090</td>\n",
       "      <td>Toni Ann</td>\n",
       "      <td>Bronx</td>\n",
       "      <td>Allerton</td>\n",
       "      <td>40.867022</td>\n",
       "      <td>-73.852723</td>\n",
       "      <td>Private room</td>\n",
       "      <td>40</td>\n",
       "      <td>3</td>\n",
       "      <td>17</td>\n",
       "      <td>2015-08-29</td>\n",
       "      <td>0.35</td>\n",
       "      <td>6</td>\n",
       "      <td>329</td>\n",
       "    </tr>\n",
       "    <tr>\n",
       "      <th>3</th>\n",
       "      <td>12696809</td>\n",
       "      <td>Small Studio apt</td>\n",
       "      <td>11344542</td>\n",
       "      <td>Ian</td>\n",
       "      <td>Bronx</td>\n",
       "      <td>Allerton</td>\n",
       "      <td>40.865535</td>\n",
       "      <td>-73.868010</td>\n",
       "      <td>Entire home/apt</td>\n",
       "      <td>154</td>\n",
       "      <td>3</td>\n",
       "      <td>0</td>\n",
       "      <td>NaN</td>\n",
       "      <td>NaN</td>\n",
       "      <td>1</td>\n",
       "      <td>89</td>\n",
       "    </tr>\n",
       "    <tr>\n",
       "      <th>4</th>\n",
       "      <td>3400359</td>\n",
       "      <td>Awesome Deal NYC</td>\n",
       "      <td>16286162</td>\n",
       "      <td>Pat</td>\n",
       "      <td>Bronx</td>\n",
       "      <td>Allerton</td>\n",
       "      <td>40.866770</td>\n",
       "      <td>-73.859378</td>\n",
       "      <td>Private room</td>\n",
       "      <td>44</td>\n",
       "      <td>2</td>\n",
       "      <td>33</td>\n",
       "      <td>2016-03-31</td>\n",
       "      <td>1.48</td>\n",
       "      <td>4</td>\n",
       "      <td>325</td>\n",
       "    </tr>\n",
       "  </tbody>\n",
       "</table>\n",
       "</div>"
      ],
      "text/plain": [
       "         id                                name   host_id host_name  \\\n",
       "0   1886820      Quaint City Island Community.    9815788     Steve   \n",
       "1    755528  PRIVATE BATH/TONS OF SUNLIGHT/SAFE   3684360   Enrique   \n",
       "2    260566        Private Room Guests Homestay   1367090  Toni Ann   \n",
       "3  12696809                    Small Studio apt  11344542       Ian   \n",
       "4   3400359                    Awesome Deal NYC  16286162       Pat   \n",
       "\n",
       "  neighbourhood_group neighbourhood   latitude  longitude        room_type  \\\n",
       "0               Bronx   City Island  40.841144 -73.783052  Entire home/apt   \n",
       "1               Bronx      Allerton  40.858397 -73.869686     Private room   \n",
       "2               Bronx      Allerton  40.867022 -73.852723     Private room   \n",
       "3               Bronx      Allerton  40.865535 -73.868010  Entire home/apt   \n",
       "4               Bronx      Allerton  40.866770 -73.859378     Private room   \n",
       "\n",
       "   price  minimum_nights  number_of_reviews last_review  reviews_per_month  \\\n",
       "0    300               7                  0         NaN                NaN   \n",
       "1     49               2                 69  2016-04-11               1.62   \n",
       "2     40               3                 17  2015-08-29               0.35   \n",
       "3    154               3                  0         NaN                NaN   \n",
       "4     44               2                 33  2016-03-31               1.48   \n",
       "\n",
       "   calculated_host_listings_count  availability_365  \n",
       "0                               1               365  \n",
       "1                               2               290  \n",
       "2                               6               329  \n",
       "3                               1                89  \n",
       "4                               4               325  "
      ]
     },
     "execution_count": 2,
     "metadata": {},
     "output_type": "execute_result"
    }
   ],
   "source": [
    "import pandas as pd\n",
    "import numpy as np\n",
    "\n",
    "listNYC.head()"
   ]
  },
  {
   "cell_type": "code",
   "execution_count": 3,
   "metadata": {
    "collapsed": false
   },
   "outputs": [
    {
     "name": "stdout",
     "output_type": "stream",
     "text": [
      "<class 'pandas.core.frame.DataFrame'>\n",
      "Int64Index: 32575 entries, 0 to 32574\n",
      "Data columns (total 16 columns):\n",
      "id                                32575 non-null int64\n",
      "name                              32574 non-null object\n",
      "host_id                           32575 non-null int64\n",
      "host_name                         32570 non-null object\n",
      "neighbourhood_group               32575 non-null object\n",
      "neighbourhood                     32575 non-null object\n",
      "latitude                          32575 non-null float64\n",
      "longitude                         32575 non-null float64\n",
      "room_type                         32575 non-null object\n",
      "price                             32575 non-null int64\n",
      "minimum_nights                    32575 non-null int64\n",
      "number_of_reviews                 32575 non-null int64\n",
      "last_review                       25087 non-null object\n",
      "reviews_per_month                 25087 non-null float64\n",
      "calculated_host_listings_count    32575 non-null int64\n",
      "availability_365                  32575 non-null int64\n",
      "dtypes: float64(3), int64(7), object(6)\n",
      "memory usage: 4.2+ MB\n"
     ]
    }
   ],
   "source": [
    "listNYC.info()"
   ]
  },
  {
   "cell_type": "code",
   "execution_count": 4,
   "metadata": {
    "collapsed": false
   },
   "outputs": [
    {
     "data": {
      "text/plain": [
       "50.96239447429009"
      ]
     },
     "execution_count": 4,
     "metadata": {},
     "output_type": "execute_result"
    }
   ],
   "source": [
    "# the percentage of individuals that died on the titanic\n",
    "float(len(listNYC[listNYC.neighbourhood_group=='Manhattan']))/len(listNYC)*100.0"
   ]
  },
  {
   "cell_type": "code",
   "execution_count": 6,
   "metadata": {
    "collapsed": false
   },
   "outputs": [
    {
     "data": {
      "text/plain": [
       "8.429777436684574"
      ]
     },
     "execution_count": 6,
     "metadata": {},
     "output_type": "execute_result"
    }
   ],
   "source": [
    "# the percentage of individuals that died on the titanic\n",
    "float(len(listNYC[listNYC.neighbourhood_group=='Queens']))/len(listNYC)*100.0"
   ]
  },
  {
   "cell_type": "code",
   "execution_count": 8,
   "metadata": {
    "collapsed": false
   },
   "outputs": [
    {
     "name": "stdout",
     "output_type": "stream",
     "text": [
      "neighbourhood_group\n",
      "Bronx              5179\n",
      "Brooklyn         174021\n",
      "Manhattan        232347\n",
      "Queens            35786\n",
      "Staten Island      2742\n",
      "Name: number_of_reviews, dtype: int64\n",
      "---------------------------------------\n",
      "neighbourhood_group\n",
      "Bronx              462\n",
      "Brooklyn         12577\n",
      "Manhattan        16601\n",
      "Queens            2746\n",
      "Staten Island      189\n",
      "Name: id, dtype: int64\n",
      "---------------------------------------\n",
      "neighbourhood_group\n",
      "Bronx            11.209957\n",
      "Brooklyn         13.836447\n",
      "Manhattan        13.995964\n",
      "Queens           13.032047\n",
      "Staten Island    14.507937\n",
      "dtype: float64\n"
     ]
    }
   ],
   "source": [
    "# Lets aggregate by neighbourhood group and display the average number of reviews by neighbourhood group\n",
    "listNYC_grouped = listNYC.groupby(by='neighbourhood_group')\n",
    "print listNYC_grouped.number_of_reviews.sum()\n",
    "print '---------------------------------------'\n",
    "print listNYC_grouped.id.count()\n",
    "print '---------------------------------------'\n",
    "print listNYC_grouped.number_of_reviews.sum() / listNYC_grouped.id.count()"
   ]
  },
  {
   "cell_type": "code",
   "execution_count": null,
   "metadata": {
    "collapsed": true
   },
   "outputs": [],
   "source": []
  }
 ],
 "metadata": {},
 "nbformat": 4,
 "nbformat_minor": 0
}
